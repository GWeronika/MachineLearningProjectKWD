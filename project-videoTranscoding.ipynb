{
 "cells": [
  {
   "cell_type": "markdown",
   "id": "c38bbf91",
   "metadata": {},
   "source": [
    "# Ocena czasu potrzebnego na dekodowanie filmu"
   ]
  },
  {
   "cell_type": "markdown",
   "id": "d1167b8c",
   "metadata": {},
   "source": [
    "Na podstawie zbioru (https://archive.ics.uci.edu/dataset/335/online+video+characteristics+and+transcoding+time+dataset)"
   ]
  },
  {
   "cell_type": "code",
   "execution_count": 18,
   "id": "ac30fb12",
   "metadata": {},
   "outputs": [],
   "source": [
    "import pandas as pd\n",
    "import numpy as np\n",
    "import matplotlib.pyplot as plt"
   ]
  },
  {
   "cell_type": "markdown",
   "id": "f80d4810",
   "metadata": {},
   "source": [
    "## Opis danych wejściowych i ich analiza"
   ]
  },
  {
   "cell_type": "markdown",
   "id": "1ae36b5e",
   "metadata": {},
   "source": [
    "Rzut oka na pierwsze pięć wierszy podanego zbioru danych za pomocą funkcji head(). Zbiór danych data1 zawiera 22 atrybuty podane poniżej."
   ]
  },
  {
   "cell_type": "code",
   "execution_count": 19,
   "id": "9e52499d",
   "metadata": {},
   "outputs": [
    {
     "data": {
      "text/html": [
       "<div>\n",
       "<style scoped>\n",
       "    .dataframe tbody tr th:only-of-type {\n",
       "        vertical-align: middle;\n",
       "    }\n",
       "\n",
       "    .dataframe tbody tr th {\n",
       "        vertical-align: top;\n",
       "    }\n",
       "\n",
       "    .dataframe thead th {\n",
       "        text-align: right;\n",
       "    }\n",
       "</style>\n",
       "<table border=\"1\" class=\"dataframe\">\n",
       "  <thead>\n",
       "    <tr style=\"text-align: right;\">\n",
       "      <th></th>\n",
       "      <th>id</th>\n",
       "      <th>duration</th>\n",
       "      <th>codec</th>\n",
       "      <th>width</th>\n",
       "      <th>height</th>\n",
       "      <th>bitrate</th>\n",
       "      <th>framerate</th>\n",
       "      <th>i</th>\n",
       "      <th>p</th>\n",
       "      <th>b</th>\n",
       "      <th>...</th>\n",
       "      <th>p_size</th>\n",
       "      <th>b_size</th>\n",
       "      <th>size</th>\n",
       "      <th>o_codec</th>\n",
       "      <th>o_bitrate</th>\n",
       "      <th>o_framerate</th>\n",
       "      <th>o_width</th>\n",
       "      <th>o_height</th>\n",
       "      <th>umem</th>\n",
       "      <th>utime</th>\n",
       "    </tr>\n",
       "  </thead>\n",
       "  <tbody>\n",
       "    <tr>\n",
       "      <th>0</th>\n",
       "      <td>04t6-jw9czg</td>\n",
       "      <td>130.35667</td>\n",
       "      <td>mpeg4</td>\n",
       "      <td>176</td>\n",
       "      <td>144</td>\n",
       "      <td>54590</td>\n",
       "      <td>12.0</td>\n",
       "      <td>27</td>\n",
       "      <td>1537</td>\n",
       "      <td>0</td>\n",
       "      <td>...</td>\n",
       "      <td>825054</td>\n",
       "      <td>0</td>\n",
       "      <td>889537</td>\n",
       "      <td>mpeg4</td>\n",
       "      <td>56000</td>\n",
       "      <td>12.0</td>\n",
       "      <td>176</td>\n",
       "      <td>144</td>\n",
       "      <td>22508</td>\n",
       "      <td>0.612</td>\n",
       "    </tr>\n",
       "    <tr>\n",
       "      <th>1</th>\n",
       "      <td>04t6-jw9czg</td>\n",
       "      <td>130.35667</td>\n",
       "      <td>mpeg4</td>\n",
       "      <td>176</td>\n",
       "      <td>144</td>\n",
       "      <td>54590</td>\n",
       "      <td>12.0</td>\n",
       "      <td>27</td>\n",
       "      <td>1537</td>\n",
       "      <td>0</td>\n",
       "      <td>...</td>\n",
       "      <td>825054</td>\n",
       "      <td>0</td>\n",
       "      <td>889537</td>\n",
       "      <td>mpeg4</td>\n",
       "      <td>56000</td>\n",
       "      <td>12.0</td>\n",
       "      <td>320</td>\n",
       "      <td>240</td>\n",
       "      <td>25164</td>\n",
       "      <td>0.980</td>\n",
       "    </tr>\n",
       "    <tr>\n",
       "      <th>2</th>\n",
       "      <td>04t6-jw9czg</td>\n",
       "      <td>130.35667</td>\n",
       "      <td>mpeg4</td>\n",
       "      <td>176</td>\n",
       "      <td>144</td>\n",
       "      <td>54590</td>\n",
       "      <td>12.0</td>\n",
       "      <td>27</td>\n",
       "      <td>1537</td>\n",
       "      <td>0</td>\n",
       "      <td>...</td>\n",
       "      <td>825054</td>\n",
       "      <td>0</td>\n",
       "      <td>889537</td>\n",
       "      <td>mpeg4</td>\n",
       "      <td>56000</td>\n",
       "      <td>12.0</td>\n",
       "      <td>480</td>\n",
       "      <td>360</td>\n",
       "      <td>29228</td>\n",
       "      <td>1.216</td>\n",
       "    </tr>\n",
       "    <tr>\n",
       "      <th>3</th>\n",
       "      <td>04t6-jw9czg</td>\n",
       "      <td>130.35667</td>\n",
       "      <td>mpeg4</td>\n",
       "      <td>176</td>\n",
       "      <td>144</td>\n",
       "      <td>54590</td>\n",
       "      <td>12.0</td>\n",
       "      <td>27</td>\n",
       "      <td>1537</td>\n",
       "      <td>0</td>\n",
       "      <td>...</td>\n",
       "      <td>825054</td>\n",
       "      <td>0</td>\n",
       "      <td>889537</td>\n",
       "      <td>mpeg4</td>\n",
       "      <td>56000</td>\n",
       "      <td>12.0</td>\n",
       "      <td>640</td>\n",
       "      <td>480</td>\n",
       "      <td>34316</td>\n",
       "      <td>1.692</td>\n",
       "    </tr>\n",
       "    <tr>\n",
       "      <th>4</th>\n",
       "      <td>04t6-jw9czg</td>\n",
       "      <td>130.35667</td>\n",
       "      <td>mpeg4</td>\n",
       "      <td>176</td>\n",
       "      <td>144</td>\n",
       "      <td>54590</td>\n",
       "      <td>12.0</td>\n",
       "      <td>27</td>\n",
       "      <td>1537</td>\n",
       "      <td>0</td>\n",
       "      <td>...</td>\n",
       "      <td>825054</td>\n",
       "      <td>0</td>\n",
       "      <td>889537</td>\n",
       "      <td>mpeg4</td>\n",
       "      <td>56000</td>\n",
       "      <td>12.0</td>\n",
       "      <td>1280</td>\n",
       "      <td>720</td>\n",
       "      <td>58528</td>\n",
       "      <td>3.456</td>\n",
       "    </tr>\n",
       "  </tbody>\n",
       "</table>\n",
       "<p>5 rows × 22 columns</p>\n",
       "</div>"
      ],
      "text/plain": [
       "            id   duration  codec  width  height  bitrate  framerate   i     p  \\\n",
       "0  04t6-jw9czg  130.35667  mpeg4    176     144    54590       12.0  27  1537   \n",
       "1  04t6-jw9czg  130.35667  mpeg4    176     144    54590       12.0  27  1537   \n",
       "2  04t6-jw9czg  130.35667  mpeg4    176     144    54590       12.0  27  1537   \n",
       "3  04t6-jw9czg  130.35667  mpeg4    176     144    54590       12.0  27  1537   \n",
       "4  04t6-jw9czg  130.35667  mpeg4    176     144    54590       12.0  27  1537   \n",
       "\n",
       "   b  ...  p_size  b_size    size  o_codec  o_bitrate o_framerate  o_width  \\\n",
       "0  0  ...  825054       0  889537    mpeg4      56000        12.0      176   \n",
       "1  0  ...  825054       0  889537    mpeg4      56000        12.0      320   \n",
       "2  0  ...  825054       0  889537    mpeg4      56000        12.0      480   \n",
       "3  0  ...  825054       0  889537    mpeg4      56000        12.0      640   \n",
       "4  0  ...  825054       0  889537    mpeg4      56000        12.0     1280   \n",
       "\n",
       "   o_height   umem  utime  \n",
       "0       144  22508  0.612  \n",
       "1       240  25164  0.980  \n",
       "2       360  29228  1.216  \n",
       "3       480  34316  1.692  \n",
       "4       720  58528  3.456  \n",
       "\n",
       "[5 rows x 22 columns]"
      ]
     },
     "execution_count": 19,
     "metadata": {},
     "output_type": "execute_result"
    }
   ],
   "source": [
    "data1 = pd.read_csv('transcoding_mesurment.tsv', sep='\\t')\n",
    "data1.head()"
   ]
  },
  {
   "cell_type": "markdown",
   "id": "eaebdafc",
   "metadata": {},
   "source": [
    "Zapoznanie się z krótkim opisem danych za pomocą funkcji info(). Funkcja ta ukazuje ogólne informacje o danych, takie jak liczba wierszy, typy danych, oraz ewentualne brakujące wartości."
   ]
  },
  {
   "cell_type": "code",
   "execution_count": 20,
   "id": "a126486c",
   "metadata": {},
   "outputs": [
    {
     "name": "stdout",
     "output_type": "stream",
     "text": [
      "<class 'pandas.core.frame.DataFrame'>\n",
      "RangeIndex: 68784 entries, 0 to 68783\n",
      "Data columns (total 22 columns):\n",
      " #   Column       Non-Null Count  Dtype  \n",
      "---  ------       --------------  -----  \n",
      " 0   id           68784 non-null  object \n",
      " 1   duration     68784 non-null  float64\n",
      " 2   codec        68784 non-null  object \n",
      " 3   width        68784 non-null  int64  \n",
      " 4   height       68784 non-null  int64  \n",
      " 5   bitrate      68784 non-null  int64  \n",
      " 6   framerate    68784 non-null  float64\n",
      " 7   i            68784 non-null  int64  \n",
      " 8   p            68784 non-null  int64  \n",
      " 9   b            68784 non-null  int64  \n",
      " 10  frames       68784 non-null  int64  \n",
      " 11  i_size       68784 non-null  int64  \n",
      " 12  p_size       68784 non-null  int64  \n",
      " 13  b_size       68784 non-null  int64  \n",
      " 14  size         68784 non-null  int64  \n",
      " 15  o_codec      68784 non-null  object \n",
      " 16  o_bitrate    68784 non-null  int64  \n",
      " 17  o_framerate  68784 non-null  float64\n",
      " 18  o_width      68784 non-null  int64  \n",
      " 19  o_height     68784 non-null  int64  \n",
      " 20  umem         68784 non-null  int64  \n",
      " 21  utime        68784 non-null  float64\n",
      "dtypes: float64(4), int64(15), object(3)\n",
      "memory usage: 11.5+ MB\n"
     ]
    }
   ],
   "source": [
    "data1.info()"
   ]
  },
  {
   "cell_type": "markdown",
   "id": "0a265322",
   "metadata": {},
   "source": [
    "Zbiór pierwszy składa się z 68784 przykładów i wydaje się niezbyt dużym zbiorem na potrzeby uczenia maszynowego, jednak jest idealny do demonstracji jego działania. Zauważyć można, że większość atrybutów zbioru ma wartości numeryczne (float64 i int64). \n",
    "\n",
    "Wyjątek stanowią trzy pola: id, codec i o_codec, których typem wartości jest object. Object jest nadrzędną klasą wszystkich klas w języku Python, co oznacza, że pola te mogą przechowywać dowolny obiekt stworzony w Pythonie (czyli dla pliku TSV każdy obiekt tekstowy). Po przyjrzeniu się wynikowi funkcji data1.head() nietrudno zauważyć, że wyniki tych trzech pól są powtarzalne, z czego wywnioskować można, że stanowią one wartości wyliczeniowe enum. \n",
    "\n",
    "Warto więc sprawdzić te wartości dodatkowo zliczając częstotliwość ich występowania funkcją value_counts(). Pozwala ona zobaczyć rozkład wartości w tych kolumnach."
   ]
  },
  {
   "cell_type": "code",
   "execution_count": 21,
   "id": "ab78159e",
   "metadata": {},
   "outputs": [
    {
     "data": {
      "text/plain": [
       "id\n",
       "04t6-jw9czg    841\n",
       "2ApZ-KZ-pEk    841\n",
       "3fpg-LlHcks    841\n",
       "3fmy-4uvR9U    841\n",
       "3_fF9rtYCQ0    841\n",
       "              ... \n",
       "GXn0-yo-L0I      1\n",
       "gZDG-8Te3tg      1\n",
       "h52Y-SSyvoM      1\n",
       "H5ae-PJpkwI      1\n",
       "zZKo-QsY86U      1\n",
       "Name: count, Length: 1099, dtype: int64"
      ]
     },
     "execution_count": 21,
     "metadata": {},
     "output_type": "execute_result"
    }
   ],
   "source": [
    "data1[\"id\"].value_counts()"
   ]
  },
  {
   "cell_type": "markdown",
   "id": "a6262f45",
   "metadata": {},
   "source": [
    "Dodatkowo dla zmiennych 'codec' i 'o_codec' korzystamy z kodowania kategorycznego (np. one-hot encoding), aby przekształcić je na postać liczbową. \n",
    "\n",
    "Funkcja pd.get_dummies służy do kodowania kolumn, które zawierają dane kategoryczne (np. tekst czy etykiety), na postać numeryczną. Tworzy ona nowe kolumny dla każdej unikalnej wartości w kolumnie oryginalnej, a następnie przypisuje wartości binarne w zależności od tego, która kategoria jest obecna w danym wierszu."
   ]
  },
  {
   "cell_type": "code",
   "execution_count": 22,
   "id": "d510984c",
   "metadata": {},
   "outputs": [],
   "source": [
    "data1 = pd.get_dummies(data1, columns=['codec', 'o_codec'])"
   ]
  },
  {
   "cell_type": "markdown",
   "id": "a531e67c",
   "metadata": {},
   "source": [
    "Id ma więc zarówno te wartości, które się powtarzają, jak i te, które w zbiorze są unikatowe. Pole codec ma 4 różne wartości, które może przybierać i żadna z nich nie występuje w zbiorze tylko jeden raz. Tak samo jest z wartościami wyjściowymi o_codec. Dodatkowo zauważyć można, że wartości w kolumnie codec i o_codec są takie same, tylko ich częstotliwość występowania jest różna."
   ]
  },
  {
   "cell_type": "markdown",
   "id": "806805b1",
   "metadata": {},
   "source": [
    "## Analiza eksploracyjna\n",
    "\n",
    "Analiza reszty pól metodą describe(), która daje możliwość podsumowania atrybutów numerycznych. Obejmuje ona średnie, odchylenia standardowe, minimum, maksimum i inne wartości opisujące dane."
   ]
  },
  {
   "cell_type": "code",
   "execution_count": 23,
   "id": "9c346997",
   "metadata": {},
   "outputs": [
    {
     "data": {
      "text/html": [
       "<div>\n",
       "<style scoped>\n",
       "    .dataframe tbody tr th:only-of-type {\n",
       "        vertical-align: middle;\n",
       "    }\n",
       "\n",
       "    .dataframe tbody tr th {\n",
       "        vertical-align: top;\n",
       "    }\n",
       "\n",
       "    .dataframe thead th {\n",
       "        text-align: right;\n",
       "    }\n",
       "</style>\n",
       "<table border=\"1\" class=\"dataframe\">\n",
       "  <thead>\n",
       "    <tr style=\"text-align: right;\">\n",
       "      <th></th>\n",
       "      <th>duration</th>\n",
       "      <th>width</th>\n",
       "      <th>height</th>\n",
       "      <th>bitrate</th>\n",
       "      <th>framerate</th>\n",
       "      <th>i</th>\n",
       "      <th>p</th>\n",
       "      <th>b</th>\n",
       "      <th>frames</th>\n",
       "      <th>i_size</th>\n",
       "      <th>p_size</th>\n",
       "      <th>b_size</th>\n",
       "      <th>size</th>\n",
       "      <th>o_bitrate</th>\n",
       "      <th>o_framerate</th>\n",
       "      <th>o_width</th>\n",
       "      <th>o_height</th>\n",
       "      <th>umem</th>\n",
       "      <th>utime</th>\n",
       "    </tr>\n",
       "  </thead>\n",
       "  <tbody>\n",
       "    <tr>\n",
       "      <th>count</th>\n",
       "      <td>68784.000000</td>\n",
       "      <td>68784.000000</td>\n",
       "      <td>68784.000000</td>\n",
       "      <td>6.878400e+04</td>\n",
       "      <td>68784.000000</td>\n",
       "      <td>68784.000000</td>\n",
       "      <td>68784.000000</td>\n",
       "      <td>68784.000000</td>\n",
       "      <td>68784.000000</td>\n",
       "      <td>6.878400e+04</td>\n",
       "      <td>6.878400e+04</td>\n",
       "      <td>68784.0</td>\n",
       "      <td>6.878400e+04</td>\n",
       "      <td>6.878400e+04</td>\n",
       "      <td>68784.000000</td>\n",
       "      <td>68784.000000</td>\n",
       "      <td>68784.000000</td>\n",
       "      <td>68784.000000</td>\n",
       "      <td>68784.000000</td>\n",
       "    </tr>\n",
       "    <tr>\n",
       "      <th>mean</th>\n",
       "      <td>286.413921</td>\n",
       "      <td>624.934171</td>\n",
       "      <td>412.572226</td>\n",
       "      <td>6.937015e+05</td>\n",
       "      <td>23.241321</td>\n",
       "      <td>100.868312</td>\n",
       "      <td>6531.692210</td>\n",
       "      <td>9.147854</td>\n",
       "      <td>6641.708377</td>\n",
       "      <td>2.838987e+06</td>\n",
       "      <td>2.218057e+07</td>\n",
       "      <td>0.0</td>\n",
       "      <td>2.502294e+07</td>\n",
       "      <td>1.395036e+06</td>\n",
       "      <td>21.190862</td>\n",
       "      <td>802.336357</td>\n",
       "      <td>503.825541</td>\n",
       "      <td>228224.717900</td>\n",
       "      <td>9.996355</td>\n",
       "    </tr>\n",
       "    <tr>\n",
       "      <th>std</th>\n",
       "      <td>287.257650</td>\n",
       "      <td>463.169069</td>\n",
       "      <td>240.615472</td>\n",
       "      <td>1.095628e+06</td>\n",
       "      <td>7.224848</td>\n",
       "      <td>84.764791</td>\n",
       "      <td>6075.871744</td>\n",
       "      <td>92.516177</td>\n",
       "      <td>6153.342453</td>\n",
       "      <td>4.325137e+06</td>\n",
       "      <td>5.097306e+07</td>\n",
       "      <td>0.0</td>\n",
       "      <td>5.414402e+07</td>\n",
       "      <td>1.749352e+06</td>\n",
       "      <td>6.668703</td>\n",
       "      <td>609.959797</td>\n",
       "      <td>315.970438</td>\n",
       "      <td>97430.878373</td>\n",
       "      <td>16.107429</td>\n",
       "    </tr>\n",
       "    <tr>\n",
       "      <th>min</th>\n",
       "      <td>31.080000</td>\n",
       "      <td>176.000000</td>\n",
       "      <td>144.000000</td>\n",
       "      <td>8.384000e+03</td>\n",
       "      <td>5.705752</td>\n",
       "      <td>7.000000</td>\n",
       "      <td>175.000000</td>\n",
       "      <td>0.000000</td>\n",
       "      <td>192.000000</td>\n",
       "      <td>1.164800e+04</td>\n",
       "      <td>3.384500e+04</td>\n",
       "      <td>0.0</td>\n",
       "      <td>1.918790e+05</td>\n",
       "      <td>5.600000e+04</td>\n",
       "      <td>12.000000</td>\n",
       "      <td>176.000000</td>\n",
       "      <td>144.000000</td>\n",
       "      <td>22508.000000</td>\n",
       "      <td>0.184000</td>\n",
       "    </tr>\n",
       "    <tr>\n",
       "      <th>25%</th>\n",
       "      <td>106.765000</td>\n",
       "      <td>320.000000</td>\n",
       "      <td>240.000000</td>\n",
       "      <td>1.343340e+05</td>\n",
       "      <td>15.000000</td>\n",
       "      <td>39.000000</td>\n",
       "      <td>2374.000000</td>\n",
       "      <td>0.000000</td>\n",
       "      <td>2417.000000</td>\n",
       "      <td>3.933950e+05</td>\n",
       "      <td>1.851539e+06</td>\n",
       "      <td>0.0</td>\n",
       "      <td>2.258222e+06</td>\n",
       "      <td>1.090000e+05</td>\n",
       "      <td>15.000000</td>\n",
       "      <td>320.000000</td>\n",
       "      <td>240.000000</td>\n",
       "      <td>216820.000000</td>\n",
       "      <td>2.096000</td>\n",
       "    </tr>\n",
       "    <tr>\n",
       "      <th>50%</th>\n",
       "      <td>239.141660</td>\n",
       "      <td>480.000000</td>\n",
       "      <td>360.000000</td>\n",
       "      <td>2.911500e+05</td>\n",
       "      <td>25.021740</td>\n",
       "      <td>80.000000</td>\n",
       "      <td>5515.000000</td>\n",
       "      <td>0.000000</td>\n",
       "      <td>5628.000000</td>\n",
       "      <td>9.458650e+05</td>\n",
       "      <td>6.166260e+06</td>\n",
       "      <td>0.0</td>\n",
       "      <td>7.881069e+06</td>\n",
       "      <td>5.390000e+05</td>\n",
       "      <td>24.000000</td>\n",
       "      <td>480.000000</td>\n",
       "      <td>360.000000</td>\n",
       "      <td>219480.000000</td>\n",
       "      <td>4.408000</td>\n",
       "    </tr>\n",
       "    <tr>\n",
       "      <th>75%</th>\n",
       "      <td>379.320000</td>\n",
       "      <td>640.000000</td>\n",
       "      <td>480.000000</td>\n",
       "      <td>6.529670e+05</td>\n",
       "      <td>29.000000</td>\n",
       "      <td>138.000000</td>\n",
       "      <td>9155.000000</td>\n",
       "      <td>0.000000</td>\n",
       "      <td>9232.000000</td>\n",
       "      <td>3.392479e+06</td>\n",
       "      <td>1.515506e+07</td>\n",
       "      <td>0.0</td>\n",
       "      <td>1.977335e+07</td>\n",
       "      <td>3.000000e+06</td>\n",
       "      <td>25.000000</td>\n",
       "      <td>1280.000000</td>\n",
       "      <td>720.000000</td>\n",
       "      <td>219656.000000</td>\n",
       "      <td>10.433000</td>\n",
       "    </tr>\n",
       "    <tr>\n",
       "      <th>max</th>\n",
       "      <td>25844.086000</td>\n",
       "      <td>1920.000000</td>\n",
       "      <td>1080.000000</td>\n",
       "      <td>7.628466e+06</td>\n",
       "      <td>48.000000</td>\n",
       "      <td>5170.000000</td>\n",
       "      <td>304959.000000</td>\n",
       "      <td>9407.000000</td>\n",
       "      <td>310129.000000</td>\n",
       "      <td>9.082855e+07</td>\n",
       "      <td>7.689970e+08</td>\n",
       "      <td>0.0</td>\n",
       "      <td>8.067111e+08</td>\n",
       "      <td>5.000000e+06</td>\n",
       "      <td>29.970000</td>\n",
       "      <td>1920.000000</td>\n",
       "      <td>1080.000000</td>\n",
       "      <td>711824.000000</td>\n",
       "      <td>224.574000</td>\n",
       "    </tr>\n",
       "  </tbody>\n",
       "</table>\n",
       "</div>"
      ],
      "text/plain": [
       "           duration         width        height       bitrate     framerate  \\\n",
       "count  68784.000000  68784.000000  68784.000000  6.878400e+04  68784.000000   \n",
       "mean     286.413921    624.934171    412.572226  6.937015e+05     23.241321   \n",
       "std      287.257650    463.169069    240.615472  1.095628e+06      7.224848   \n",
       "min       31.080000    176.000000    144.000000  8.384000e+03      5.705752   \n",
       "25%      106.765000    320.000000    240.000000  1.343340e+05     15.000000   \n",
       "50%      239.141660    480.000000    360.000000  2.911500e+05     25.021740   \n",
       "75%      379.320000    640.000000    480.000000  6.529670e+05     29.000000   \n",
       "max    25844.086000   1920.000000   1080.000000  7.628466e+06     48.000000   \n",
       "\n",
       "                  i              p             b         frames        i_size  \\\n",
       "count  68784.000000   68784.000000  68784.000000   68784.000000  6.878400e+04   \n",
       "mean     100.868312    6531.692210      9.147854    6641.708377  2.838987e+06   \n",
       "std       84.764791    6075.871744     92.516177    6153.342453  4.325137e+06   \n",
       "min        7.000000     175.000000      0.000000     192.000000  1.164800e+04   \n",
       "25%       39.000000    2374.000000      0.000000    2417.000000  3.933950e+05   \n",
       "50%       80.000000    5515.000000      0.000000    5628.000000  9.458650e+05   \n",
       "75%      138.000000    9155.000000      0.000000    9232.000000  3.392479e+06   \n",
       "max     5170.000000  304959.000000   9407.000000  310129.000000  9.082855e+07   \n",
       "\n",
       "             p_size   b_size          size     o_bitrate   o_framerate  \\\n",
       "count  6.878400e+04  68784.0  6.878400e+04  6.878400e+04  68784.000000   \n",
       "mean   2.218057e+07      0.0  2.502294e+07  1.395036e+06     21.190862   \n",
       "std    5.097306e+07      0.0  5.414402e+07  1.749352e+06      6.668703   \n",
       "min    3.384500e+04      0.0  1.918790e+05  5.600000e+04     12.000000   \n",
       "25%    1.851539e+06      0.0  2.258222e+06  1.090000e+05     15.000000   \n",
       "50%    6.166260e+06      0.0  7.881069e+06  5.390000e+05     24.000000   \n",
       "75%    1.515506e+07      0.0  1.977335e+07  3.000000e+06     25.000000   \n",
       "max    7.689970e+08      0.0  8.067111e+08  5.000000e+06     29.970000   \n",
       "\n",
       "            o_width      o_height           umem         utime  \n",
       "count  68784.000000  68784.000000   68784.000000  68784.000000  \n",
       "mean     802.336357    503.825541  228224.717900      9.996355  \n",
       "std      609.959797    315.970438   97430.878373     16.107429  \n",
       "min      176.000000    144.000000   22508.000000      0.184000  \n",
       "25%      320.000000    240.000000  216820.000000      2.096000  \n",
       "50%      480.000000    360.000000  219480.000000      4.408000  \n",
       "75%     1280.000000    720.000000  219656.000000     10.433000  \n",
       "max     1920.000000   1080.000000  711824.000000    224.574000  "
      ]
     },
     "execution_count": 23,
     "metadata": {},
     "output_type": "execute_result"
    }
   ],
   "source": [
    "data1.describe()"
   ]
  },
  {
   "cell_type": "markdown",
   "id": "667e1a5b",
   "metadata": {},
   "source": [
    "Z wywołania funkcji describe() wynika, że dla każdej kolumny istnieją 68784 niepuste wartości, co oznacza, że w zbiorze danych nie ma wartości pustych dla żadnej kolumny.\n",
    "\n",
    "Z dużych różnic w wartościach średnich i odchyleniach standardowych wynika, że dane te są nieustandaryzowane, co oznacza, że nie zostały przekształcone w taki sposób, aby mieć wspólną skalę. \n",
    "\n",
    "Na podstawie wyników metody describe(), można wywnioskować, że nie zastosowano standaryzacji ani normalizacji, co może być spowodowane różnicami w jednostkach, w jakich wyrażane są dane oraz zakresach między różnymi kolumnami. "
   ]
  },
  {
   "cell_type": "markdown",
   "id": "df21d896",
   "metadata": {},
   "source": [
    "  "
   ]
  },
  {
   "cell_type": "markdown",
   "id": "cd50534b",
   "metadata": {},
   "source": [
    "Sprawdzimy teraz, jak wygląda cel przewidywań, czyli kolumna 'utime'.\n",
    "\n",
    "Pracując z problemem regresji, zobaczwarto sprawdzić, jak rozkładają się wartości zmiennej celu. Może to pomóc w identyfikacji ewentualnych problemów."
   ]
  },
  {
   "cell_type": "code",
   "execution_count": 24,
   "id": "dbb34603",
   "metadata": {},
   "outputs": [
    {
     "name": "stdout",
     "output_type": "stream",
     "text": [
      "count    68784.000000\n",
      "mean         9.996355\n",
      "std         16.107429\n",
      "min          0.184000\n",
      "25%          2.096000\n",
      "50%          4.408000\n",
      "75%         10.433000\n",
      "max        224.574000\n",
      "Name: utime, dtype: float64\n"
     ]
    }
   ],
   "source": [
    "print(data1['utime'].describe())"
   ]
  },
  {
   "cell_type": "markdown",
   "id": "f02252ae",
   "metadata": {},
   "source": [
    "Wartości takie jak średnia i mediana dają ogólne wyobrażenie o średniej długości czasów kodowania filmów. Odchylenie standardowe wskazuje, jak bardzo dane są rozproszone wokół średniej. Wartości minimalna i maksymalna pozwalają nam zobaczyć zakres czasów trwania w zbiorze danych.\n",
    "\n",
    "Kwantyle obrazują rozkład różnych czasów dekodowania ze względu na przedziały, w których się znajdują. Zauważyć można, że 25% czasów trwania jest krótszych niż 2.096 sekundy, a 75% jest krótszych niż 10.433 sekundy."
   ]
  },
  {
   "cell_type": "markdown",
   "id": "61491b3d",
   "metadata": {},
   "source": [
    "W celu zobaczenia rozkładów danych i znalezienia outlinerów skorzystamy z wizualizacji. Jest to możliwe za sprawą użycia metody histplot(), która dla otrzymanych danych generuje histogram. Przedstawia on częstotliwość występowania danych w danym przedziale."
   ]
  },
  {
   "cell_type": "code",
   "execution_count": 25,
   "id": "a193fb1c",
   "metadata": {},
   "outputs": [
    {
     "data": {
      "image/png": "[encoded data removed]",
      "text/plain": [
       "<Figure size 640x480 with 1 Axes>"
      ]
     },
     "metadata": {},
     "output_type": "display_data"
    }
   ],
   "source": [
    "import seaborn as sns\n",
    "import matplotlib.pyplot as plt\n",
    "\n",
    "sns.histplot(data1['utime'], kde=True)\n",
    "plt.title('Rozkład zmiennej \"utime\"')\n",
    "plt.show()"
   ]
  },
  {
   "cell_type": "markdown",
   "id": "f8375324",
   "metadata": {},
   "source": [
    "Dzielimy teraz zbiór danych na dwie części: cechy i etykiety. \n",
    "Cechy to kolumny, na podstawie których model będzie dokonywał przewidywań. Należą  do nich wszystkie kolumny oprócz kolumn 'utime' oraz 'id' (identyfikatory są nieistotne przy trenowaniu modeli). \n",
    "Etykiety (inaczej targety) to wartości które chcemy przewidzieć. Targetem więc będzie kolumna 'utime', czyli czas potrzebny na dekodowanie filmu."
   ]
  },
  {
   "cell_type": "code",
   "execution_count": 26,
   "id": "f819d495",
   "metadata": {},
   "outputs": [],
   "source": [
    "data = data1.drop(['utime', 'id'], axis=1)\n",
    "target = data1['utime']"
   ]
  },
  {
   "cell_type": "markdown",
   "id": "6ebdc6f9",
   "metadata": {},
   "source": [
    "Z wcześniejszego wywołania funkcji describe() wynika, że dane numeryczne są nieustandaryzowane (średnie poszczególnych wierszy mogą się różnić nawet o parę rzędów wielkości, a standardowe odchylenia nie są równe 1). Możemy to zaobserwować wywołując dwie funkcje obliczające średnią i standardowe odchylenie."
   ]
  },
  {
   "cell_type": "code",
   "execution_count": 27,
   "id": "a3386d51",
   "metadata": {},
   "outputs": [],
   "source": [
    "numeric_data = data.select_dtypes(include='number')"
   ]
  },
  {
   "cell_type": "code",
   "execution_count": 28,
   "id": "fdab53e1",
   "metadata": {},
   "outputs": [
    {
     "name": "stdout",
     "output_type": "stream",
     "text": [
      "Średnia\n",
      "duration       2.864139e+02\n",
      "width          6.249342e+02\n",
      "height         4.125722e+02\n",
      "bitrate        6.937015e+05\n",
      "framerate      2.324132e+01\n",
      "i              1.008683e+02\n",
      "p              6.531692e+03\n",
      "b              9.147854e+00\n",
      "frames         6.641708e+03\n",
      "i_size         2.838987e+06\n",
      "p_size         2.218057e+07\n",
      "b_size         0.000000e+00\n",
      "size           2.502294e+07\n",
      "o_bitrate      1.395036e+06\n",
      "o_framerate    2.119086e+01\n",
      "o_width        8.023364e+02\n",
      "o_height       5.038255e+02\n",
      "umem           2.282247e+05\n",
      "dtype: float64\n",
      "Standardowe odchylenie\n",
      "duration       2.872576e+02\n",
      "width          4.631691e+02\n",
      "height         2.406155e+02\n",
      "bitrate        1.095628e+06\n",
      "framerate      7.224848e+00\n",
      "i              8.476479e+01\n",
      "p              6.075872e+03\n",
      "b              9.251618e+01\n",
      "frames         6.153342e+03\n",
      "i_size         4.325137e+06\n",
      "p_size         5.097306e+07\n",
      "b_size         0.000000e+00\n",
      "size           5.414402e+07\n",
      "o_bitrate      1.749352e+06\n",
      "o_framerate    6.668703e+00\n",
      "o_width        6.099598e+02\n",
      "o_height       3.159704e+02\n",
      "umem           9.743088e+04\n",
      "dtype: float64\n"
     ]
    }
   ],
   "source": [
    "print(\"Średnia\")\n",
    "print(numeric_data.mean(axis=0))\n",
    "print(\"Standardowe odchylenie\")\n",
    "print(numeric_data.std(axis=0))"
   ]
  },
  {
   "cell_type": "markdown",
   "id": "90802a4b",
   "metadata": {},
   "source": [
    "Z powyższych danych możemy się przekonać, że dane numeryczne nie są ustandaryzowane. Za pomocą funkcji fit_transform z biblioteki sklearn.preprocessing standaryzujemy dane, aby uzyskać odchylenie standardowe równe 1."
   ]
  },
  {
   "cell_type": "code",
   "execution_count": 29,
   "id": "48a4ed7e",
   "metadata": {},
   "outputs": [],
   "source": [
    "from sklearn.preprocessing import StandardScaler\n",
    "scaler = StandardScaler()\n",
    "scaled_data = scaler.fit_transform(numeric_data)"
   ]
  },
  {
   "cell_type": "code",
   "execution_count": 30,
   "id": "e5f46c3b",
   "metadata": {},
   "outputs": [
    {
     "name": "stdout",
     "output_type": "stream",
     "text": [
      "Średnia\n",
      "[ 2.64449495e-17  9.91685605e-18  1.25613510e-16  5.61955176e-17\n",
      "  7.93348484e-17 -1.98337121e-17 -6.61123736e-18 -5.37163036e-18\n",
      " -5.28898989e-17 -3.63618055e-17  2.31393308e-17  0.00000000e+00\n",
      "  0.00000000e+00  1.23340897e-16 -2.33304369e-16  1.38422782e-17\n",
      " -6.17737491e-17  2.64449495e-17]\n",
      "Standardowe odchylenie\n",
      "[1. 1. 1. 1. 1. 1. 1. 1. 1. 1. 1. 0. 1. 1. 1. 1. 1. 1.]\n"
     ]
    }
   ],
   "source": [
    "print(\"Średnia\")\n",
    "print(scaled_data.mean(axis=0))\n",
    "print(\"Standardowe odchylenie\")\n",
    "print(scaled_data.std(axis=0))"
   ]
  },
  {
   "cell_type": "markdown",
   "id": "6a91e803",
   "metadata": {},
   "source": [
    "Po przeskalowaniu danych otrzymaliśmy ustandaryzowane dane numeryczne. Można to stwierdzić obserwując, że standardowe odchylenie we wszystkich przypadkach (oprócz jednego 0) wynosi 1, a różnica średnich między dwoma dowolnymi cechami wynosi co najwyżej dwa rzędy, poza wartościami, które równają się 0."
   ]
  },
  {
   "cell_type": "markdown",
   "id": "d58be998",
   "metadata": {},
   "source": [
    "## Podział danych"
   ]
  },
  {
   "cell_type": "markdown",
   "id": "4cfcdd99",
   "metadata": {},
   "source": [
    "Przygotowane ustandaryzowane dane zostały następnie podzielone na zbiór treningowy i zbiór testowy. Zbiór treningowy zawiera 80% danych całego zbioru danych, zbiór testowy 20%. Dzięki ustawieniu parametru random_state zapewnione jest, że dane, przy każdym uruchomieniu, będą podzielone na te same zbiory. "
   ]
  },
  {
   "cell_type": "code",
   "execution_count": 31,
   "id": "f1fa77c0",
   "metadata": {},
   "outputs": [],
   "source": [
    "from sklearn.model_selection import train_test_split\n",
    "\n",
    "data_train, data_test, target_train, target_test = train_test_split(data, target, test_size=0.2, random_state=42)"
   ]
  },
  {
   "cell_type": "markdown",
   "id": "61827234",
   "metadata": {},
   "source": [
    "W kolejnym etapie model zostaje przygotowany dzięki funkcji LinearRegression() z biblioteki Scikit-Learn oraz wytrenowany na danych treningowych przygotowanych w poprzednim punkcie."
   ]
  },
  {
   "cell_type": "code",
   "execution_count": 34,
   "id": "5d2a5105",
   "metadata": {},
   "outputs": [
    {
     "data": {
      "text/html": [
       "<style>#sk-container-id-1 {color: black;}#sk-container-id-1 pre{padding: 0;}#sk-container-id-1 div.sk-toggleable {background-color: white;}#sk-container-id-1 label.sk-toggleable__label {cursor: pointer;display: block;width: 100%;margin-bottom: 0;padding: 0.3em;box-sizing: border-box;text-align: center;}#sk-container-id-1 label.sk-toggleable__label-arrow:before {content: \"▸\";float: left;margin-right: 0.25em;color: #696969;}#sk-container-id-1 label.sk-toggleable__label-arrow:hover:before {color: black;}#sk-container-id-1 div.sk-estimator:hover label.sk-toggleable__label-arrow:before {color: black;}#sk-container-id-1 div.sk-toggleable__content {max-height: 0;max-width: 0;overflow: hidden;text-align: left;background-color: #f0f8ff;}#sk-container-id-1 div.sk-toggleable__content pre {margin: 0.2em;color: black;border-radius: 0.25em;background-color: #f0f8ff;}#sk-container-id-1 input.sk-toggleable__control:checked~div.sk-toggleable__content {max-height: 200px;max-width: 100%;overflow: auto;}#sk-container-id-1 input.sk-toggleable__control:checked~label.sk-toggleable__label-arrow:before {content: \"▾\";}#sk-container-id-1 div.sk-estimator input.sk-toggleable__control:checked~label.sk-toggleable__label {background-color: #d4ebff;}#sk-container-id-1 div.sk-label input.sk-toggleable__control:checked~label.sk-toggleable__label {background-color: #d4ebff;}#sk-container-id-1 input.sk-hidden--visually {border: 0;clip: rect(1px 1px 1px 1px);clip: rect(1px, 1px, 1px, 1px);height: 1px;margin: -1px;overflow: hidden;padding: 0;position: absolute;width: 1px;}#sk-container-id-1 div.sk-estimator {font-family: monospace;background-color: #f0f8ff;border: 1px dotted black;border-radius: 0.25em;box-sizing: border-box;margin-bottom: 0.5em;}#sk-container-id-1 div.sk-estimator:hover {background-color: #d4ebff;}#sk-container-id-1 div.sk-parallel-item::after {content: \"\";width: 100%;border-bottom: 1px solid gray;flex-grow: 1;}#sk-container-id-1 div.sk-label:hover label.sk-toggleable__label {background-color: #d4ebff;}#sk-container-id-1 div.sk-serial::before {content: \"\";position: absolute;border-left: 1px solid gray;box-sizing: border-box;top: 0;bottom: 0;left: 50%;z-index: 0;}#sk-container-id-1 div.sk-serial {display: flex;flex-direction: column;align-items: center;background-color: white;padding-right: 0.2em;padding-left: 0.2em;position: relative;}#sk-container-id-1 div.sk-item {position: relative;z-index: 1;}#sk-container-id-1 div.sk-parallel {display: flex;align-items: stretch;justify-content: center;background-color: white;position: relative;}#sk-container-id-1 div.sk-item::before, #sk-container-id-1 div.sk-parallel-item::before {content: \"\";position: absolute;border-left: 1px solid gray;box-sizing: border-box;top: 0;bottom: 0;left: 50%;z-index: -1;}#sk-container-id-1 div.sk-parallel-item {display: flex;flex-direction: column;z-index: 1;position: relative;background-color: white;}#sk-container-id-1 div.sk-parallel-item:first-child::after {align-self: flex-end;width: 50%;}#sk-container-id-1 div.sk-parallel-item:last-child::after {align-self: flex-start;width: 50%;}#sk-container-id-1 div.sk-parallel-item:only-child::after {width: 0;}#sk-container-id-1 div.sk-dashed-wrapped {border: 1px dashed gray;margin: 0 0.4em 0.5em 0.4em;box-sizing: border-box;padding-bottom: 0.4em;background-color: white;}#sk-container-id-1 div.sk-label label {font-family: monospace;font-weight: bold;display: inline-block;line-height: 1.2em;}#sk-container-id-1 div.sk-label-container {text-align: center;}#sk-container-id-1 div.sk-container {/* jupyter's `normalize.less` sets `[hidden] { display: none; }` but bootstrap.min.css set `[hidden] { display: none !important; }` so we also need the `!important` here to be able to override the default hidden behavior on the sphinx rendered scikit-learn.org. See: https://github.com/scikit-learn/scikit-learn/issues/21755 */display: inline-block !important;position: relative;}#sk-container-id-1 div.sk-text-repr-fallback {display: none;}</style><div id=\"sk-container-id-1\" class=\"sk-top-container\"><div class=\"sk-text-repr-fallback\"><pre>LinearRegression()</pre><b>In a Jupyter environment, please rerun this cell to show the HTML representation or trust the notebook. <br />On GitHub, the HTML representation is unable to render, please try loading this page with nbviewer.org.</b></div><div class=\"sk-container\" hidden><div class=\"sk-item\"><div class=\"sk-estimator sk-toggleable\"><input class=\"sk-toggleable__control sk-hidden--visually\" id=\"sk-estimator-id-1\" type=\"checkbox\" checked><label for=\"sk-estimator-id-1\" class=\"sk-toggleable__label sk-toggleable__label-arrow\">LinearRegression</label><div class=\"sk-toggleable__content\"><pre>LinearRegression()</pre></div></div></div></div></div>"
      ],
      "text/plain": [
       "LinearRegression()"
      ]
     },
     "execution_count": 34,
     "metadata": {},
     "output_type": "execute_result"
    }
   ],
   "source": [
    "from sklearn.linear_model import LinearRegression\n",
    "\n",
    "model = LinearRegression()\n",
    "model.fit(data_train, target_train)"
   ]
  },
  {
   "cell_type": "markdown",
   "id": "57ec4362",
   "metadata": {},
   "source": [
    "Możemy teraz sprawdzić jego skuteczność przewidywania wartości wykorzystując ze zbioru testowego odpowiednie wartości data."
   ]
  },
  {
   "cell_type": "code",
   "execution_count": 35,
   "id": "5d2a5afb",
   "metadata": {},
   "outputs": [],
   "source": [
    "predictions = model.predict(data_test)"
   ]
  },
  {
   "cell_type": "markdown",
   "id": "3b553fda",
   "metadata": {},
   "source": [
    "Aby ocenić, jak dobrze model radzi sobie na zbiorze testowym, korzystamy z metryk oceny regresji: błąd średniokwadratowy (MSE) oraz średni błąd bezwzględny (MAE). Możemy to osiągnąć wykorzystując wbudowane funkcje mean_squared_error() oraz mean_absolute_error() do obliczania odpowiednio MSE i MAE."
   ]
  },
  {
   "cell_type": "code",
   "execution_count": 39,
   "id": "bf23e3d5",
   "metadata": {},
   "outputs": [
    {
     "name": "stdout",
     "output_type": "stream",
     "text": [
      "Przed eliminacją i obrobką outlinerow MSE: 89.69928368549017, MAE: 5.711219118602806\n"
     ]
    }
   ],
   "source": [
    "from sklearn.metrics import mean_squared_error, mean_absolute_error\n",
    "\n",
    "mse = mean_squared_error(target_test, predictions)\n",
    "mae = mean_absolute_error(target_test, predictions)\n",
    "\n",
    "print(f'Przed eliminacją i obrobką outlinerow MSE: {mse}, MAE: {mae}')"
   ]
  },
  {
   "cell_type": "markdown",
   "id": "48a03acb",
   "metadata": {},
   "source": [
    "**Błąd Średniokwadratowy (MSE):**\n",
    "\n",
    "MSE to średnia z kwadratów różnic między rzeczywistymi a przewidywanymi wartościami.\n",
    "Wartość MSE wynosi 89.70, co oznacza, że średni kwadrat różnicy między rzeczywistymi a przewidywanymi wartościami wynosi około 89.70.\n",
    "Im niższa wartość MSE, tym lepiej. Wartość ta jest mierzona w jednostkach kwadratu jednostki zmiennej celu.\n",
    "\n",
    "\n",
    "**Błąd Bezwzględny (MAE):**\n",
    "\n",
    "MAE to średnia z bezwzględnych różnic między rzeczywistymi a przewidywanymi wartościami.\n",
    "Wartość MAE wynosi 5.71, co oznacza, że średnia różnica bezwzględna między rzeczywistymi a przewidywanymi wartościami wynosi około 5.71.\n",
    "Im niższa wartość MAE, tym lepiej. Wartość ta jest mierzona w jednostkach zmiennej celu."
   ]
  },
  {
   "cell_type": "markdown",
   "id": "2823cbdb",
   "metadata": {},
   "source": [
    "Aby wizualnie pokazać, jak dobre są predykcje modelu stosujemy wykres rozproszenia (scatter). Pokazuje on, jak dobrze przewidywania modelu (oś Y) korelują z rzeczywistymi wartościami (oś Y). Im bliżej linii przekątnej, tym lepiej model radzi sobie w przewidywaniu."
   ]
  },
  {
   "cell_type": "code",
   "execution_count": 41,
   "id": "c729cf1e",
   "metadata": {},
   "outputs": [
    {
     "data": {
      "image/png": "[encoded data removed]",
      "text/plain": [
       "<Figure size 640x480 with 1 Axes>"
      ]
     },
     "metadata": {},
     "output_type": "display_data"
    }
   ],
   "source": [
    "import matplotlib.pyplot as plt\n",
    "\n",
    "plt.scatter(target_test, predictions)\n",
    "plt.xlabel(\"Rzeczywiste wartości\")\n",
    "plt.ylabel(\"Predykcje\")\n",
    "plt.title(\"Rzeczywiste wartości vs. Predykcje\")\n",
    "plt.show()"
   ]
  },
  {
   "cell_type": "code",
   "execution_count": null,
   "id": "3e687854",
   "metadata": {},
   "outputs": [],
   "source": []
  }
 ],
 "metadata": {
  "kernelspec": {
   "display_name": "Python 3 (ipykernel)",
   "language": "python",
   "name": "python3"
  },
  "language_info": {
   "codemirror_mode": {
    "name": "ipython",
    "version": 3
   },
   "file_extension": ".py",
   "mimetype": "text/x-python",
   "name": "python",
   "nbconvert_exporter": "python",
   "pygments_lexer": "ipython3",
   "version": "3.11.5"
  }
 },
 "nbformat": 4,
 "nbformat_minor": 5
}
